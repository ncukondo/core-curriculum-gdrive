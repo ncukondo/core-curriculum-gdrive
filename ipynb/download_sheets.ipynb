{
 "cells": [
  {
   "cell_type": "code",
   "execution_count": 1,
   "metadata": {},
   "outputs": [
    {
     "name": "stdout",
     "output_type": "stream",
     "text": [
      "社会編集用 in 2022-03-20T05:24:02.865Z\n",
      "総合編集用 in 2022-03-20T05:18:53.563Z\n",
      "連携編集用 in 2022-03-20T05:17:00.587Z\n",
      "技能編集用 in 2022-03-20T05:11:45.014Z\n"
     ]
    },
    {
     "name": "stderr",
     "output_type": "stream",
     "text": [
      "Traceback (most recent call last):\n",
      "  File \"/tmp/ipykernel_826/1976069385.py\", line 27, in <cell line: 18>\n",
      "    sheet.to_csv(os.path.join(dir_name,f\"{name}.csv\"),quoting=csv.QUOTE_NONNUMERIC,encoding=\"utf_8_sig\",index=False,)\n",
      "  File \"/usr/local/lib/python3.10/site-packages/pandas/core/generic.py\", line 3563, in to_csv\n",
      "    return DataFrameRenderer(formatter).to_csv(\n",
      "  File \"/usr/local/lib/python3.10/site-packages/pandas/io/formats/format.py\", line 1180, in to_csv\n",
      "    csv_formatter.save()\n",
      "  File \"/usr/local/lib/python3.10/site-packages/pandas/io/formats/csvs.py\", line 241, in save\n",
      "    with get_handle(\n",
      "  File \"/usr/local/lib/python3.10/site-packages/pandas/io/common.py\", line 789, in get_handle\n",
      "    handle = open(\n",
      "PermissionError: [Errno 13] Permission denied: '/workspaces/core-currisulum-gdrive/sheets/知識編集用/別表-疾患.csv'\n"
     ]
    }
   ],
   "source": [
    "import os\n",
    "import tempfile\n",
    "import pandas as pd\n",
    "import csv\n",
    "\n",
    "from lib.utils import BASE_DIR\n",
    "from lib.export_google_sheets import export_google_sheets\n",
    "\n",
    "\n",
    "folder_ids=[\n",
    "        '1IDl3cSc8u5y4Gf13_PBCEZdFFnDv6Ilz', #入力\n",
    "        '1FlCwwi71s1BI4uhOf2CefX85byj1Alo_', #各チーム編集用シート\n",
    "]\n",
    "DIST_DIR=f\"{BASE_DIR}/sheets/\"\n",
    "\n",
    "os.makedirs(DIST_DIR,exist_ok=True)\n",
    "\n",
    "try:\n",
    "    with tempfile.TemporaryDirectory() as temp_dir:\n",
    "        file_list=export_google_sheets(folder_ids,temp_dir,info_stor_file=f\"{DIST_DIR}sheets_info.json\")\n",
    "        for file in file_list:\n",
    "            book = pd.ExcelFile(file[\"export_path\"])\n",
    "            dir_name = os.path.join(DIST_DIR,file['name'])\n",
    "            os.makedirs(dir_name,exist_ok=True)\n",
    "            for name in book.sheet_names:\n",
    "                sheet:pd.DataFrame = book.parse(name)\n",
    "                sheet.to_csv(os.path.join(dir_name,f\"{name}.csv\"),quoting=csv.QUOTE_NONNUMERIC,encoding=\"utf_8_sig\",index=False,)\n",
    "except:\n",
    "    import traceback\n",
    "    traceback.print_exc()"
   ]
  }
 ],
 "metadata": {
  "interpreter": {
   "hash": "d4d1e4263499bec80672ea0156c357c1ee493ec2b1c70f0acce89fc37c4a6abe"
  },
  "kernelspec": {
   "display_name": "Python 3.9.7 64-bit ('base': conda)",
   "language": "python",
   "name": "python3"
  },
  "language_info": {
   "codemirror_mode": {
    "name": "ipython",
    "version": 3
   },
   "file_extension": ".py",
   "mimetype": "text/x-python",
   "name": "python",
   "nbconvert_exporter": "python",
   "pygments_lexer": "ipython3",
   "version": "3.10.3"
  },
  "orig_nbformat": 4
 },
 "nbformat": 4,
 "nbformat_minor": 2
}

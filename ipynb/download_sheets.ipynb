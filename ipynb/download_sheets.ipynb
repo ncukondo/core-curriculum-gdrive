{
 "cells": [
  {
   "cell_type": "code",
   "execution_count": 2,
   "metadata": {},
   "outputs": [
    {
     "name": "stdout",
     "output_type": "stream",
     "text": [
      "プロ編集用 in 2022-04-09T01:41:30.886Z\n",
      "情報編集用 in 2022-04-09T01:36:41.836Z\n",
      "総合編集用 in 2022-04-09T01:36:37.708Z\n",
      "科学編集用 in 2022-04-09T01:34:59.779Z\n",
      "技能編集用 in 2022-04-09T01:34:52.130Z\n",
      "コミュ編集用 in 2022-04-09T01:34:45.940Z\n",
      "知識編集用 in 2022-04-09T01:34:29.918Z\n",
      "生涯編集用 in 2022-04-09T01:31:18.950Z\n",
      "社会編集用 in 2022-04-09T01:29:05.450Z\n",
      "連携編集用 in 2022-04-09T01:28:43.396Z\n",
      "別表一覧 in 2022-03-31T10:48:40.857Z\n",
      "H28 in 2022-03-15T07:36:05.798Z\n",
      "第1層 in 2022-03-12T00:00:48.490Z\n"
     ]
    },
    {
     "ename": "FileNotFoundError",
     "evalue": "[Errno 2] No such file or directory: '/workspaces/core-currisulum-gdrive/sheets/sheets_info.json'",
     "output_type": "error",
     "traceback": [
      "\u001b[0;31m---------------------------------------------------------------------------\u001b[0m",
      "\u001b[0;31mFileNotFoundError\u001b[0m                         Traceback (most recent call last)",
      "\u001b[1;32m/workspaces/core-currisulum-gdrive/ipynb/download_sheets.ipynb Cell 1'\u001b[0m in \u001b[0;36m<cell line: 23>\u001b[0;34m()\u001b[0m\n\u001b[1;32m     <a href='vscode-notebook-cell://dev-container%2B5c5c77736c2e6c6f63616c686f73745c5562756e74755c686f6d655c6e63756b6f6e646f5c6465765c636f72652d637572726973756c756d2d676472697665/workspaces/core-currisulum-gdrive/ipynb/download_sheets.ipynb#ch0000000vscode-remote?line=30'>31</a>\u001b[0m                 sheet:pd\u001b[39m.\u001b[39mDataFrame \u001b[39m=\u001b[39m book\u001b[39m.\u001b[39mparse(name)\n\u001b[1;32m     <a href='vscode-notebook-cell://dev-container%2B5c5c77736c2e6c6f63616c686f73745c5562756e74755c686f6d655c6e63756b6f6e646f5c6465765c636f72652d637572726973756c756d2d676472697665/workspaces/core-currisulum-gdrive/ipynb/download_sheets.ipynb#ch0000000vscode-remote?line=31'>32</a>\u001b[0m                 sheet\u001b[39m.\u001b[39mto_csv(os\u001b[39m.\u001b[39mpath\u001b[39m.\u001b[39mjoin(dir_name,\u001b[39mf\u001b[39m\u001b[39m\"\u001b[39m\u001b[39m{\u001b[39;00mname\u001b[39m}\u001b[39;00m\u001b[39m.csv\u001b[39m\u001b[39m\"\u001b[39m),quoting\u001b[39m=\u001b[39mcsv\u001b[39m.\u001b[39mQUOTE_NONNUMERIC,encoding\u001b[39m=\u001b[39m\u001b[39m\"\u001b[39m\u001b[39mutf_8_sig\u001b[39m\u001b[39m\"\u001b[39m,index\u001b[39m=\u001b[39m\u001b[39mFalse\u001b[39;00m,)\n\u001b[0;32m---> <a href='vscode-notebook-cell://dev-container%2B5c5c77736c2e6c6f63616c686f73745c5562756e74755c686f6d655c6e63756b6f6e646f5c6465765c636f72652d637572726973756c756d2d676472697665/workspaces/core-currisulum-gdrive/ipynb/download_sheets.ipynb#ch0000000vscode-remote?line=32'>33</a>\u001b[0m         os\u001b[39m.\u001b[39;49mremove(info_file)\n\u001b[1;32m     <a href='vscode-notebook-cell://dev-container%2B5c5c77736c2e6c6f63616c686f73745c5562756e74755c686f6d655c6e63756b6f6e646f5c6465765c636f72652d637572726973756c756d2d676472697665/workspaces/core-currisulum-gdrive/ipynb/download_sheets.ipynb#ch0000000vscode-remote?line=33'>34</a>\u001b[0m \u001b[39mexcept\u001b[39;00m:\n\u001b[1;32m     <a href='vscode-notebook-cell://dev-container%2B5c5c77736c2e6c6f63616c686f73745c5562756e74755c686f6d655c6e63756b6f6e646f5c6465765c636f72652d637572726973756c756d2d676472697665/workspaces/core-currisulum-gdrive/ipynb/download_sheets.ipynb#ch0000000vscode-remote?line=34'>35</a>\u001b[0m     \u001b[39mraise\u001b[39;00m\n",
      "\u001b[0;31mFileNotFoundError\u001b[0m: [Errno 2] No such file or directory: '/workspaces/core-currisulum-gdrive/sheets/sheets_info.json'"
     ]
    }
   ],
   "source": [
    "import os\n",
    "import tempfile\n",
    "import pandas as pd\n",
    "import csv\n",
    "import shutil\n",
    "\n",
    "from lib.utils import BASE_DIR\n",
    "from lib.export_google_sheets import export_google_sheets\n",
    "\n",
    "\n",
    "folder_ids=[\n",
    "        '1IDl3cSc8u5y4Gf13_PBCEZdFFnDv6Ilz', #入力\n",
    "        '1FlCwwi71s1BI4uhOf2CefX85byj1Alo_', #各チーム編集用シート\n",
    "]\n",
    "DIST_DIR=f\"{BASE_DIR}/sheets/\"\n",
    "\n",
    "if os.path.exists(DIST_DIR):\n",
    "    shutil.rmtree(DIST_DIR)\n",
    "\n",
    "os.makedirs(DIST_DIR,exist_ok=True)\n",
    "\n",
    "try:\n",
    "    with tempfile.TemporaryDirectory() as temp_dir:\n",
    "        file_list=export_google_sheets(folder_ids,temp_dir,info_store_file=\"\")\n",
    "        for file in file_list:\n",
    "            book = pd.ExcelFile(file[\"export_path\"])\n",
    "            dir_name = os.path.join(DIST_DIR,file['name'])\n",
    "            os.makedirs(dir_name,exist_ok=True)\n",
    "            for name in book.sheet_names:\n",
    "                sheet:pd.DataFrame = book.parse(name)\n",
    "                sheet.to_csv(os.path.join(dir_name,f\"{name}.csv\"),quoting=csv.QUOTE_NONNUMERIC,encoding=\"utf_8_sig\",index=False,)\n",
    "except:\n",
    "    raise\n"
   ]
  }
 ],
 "metadata": {
  "interpreter": {
   "hash": "d4d1e4263499bec80672ea0156c357c1ee493ec2b1c70f0acce89fc37c4a6abe"
  },
  "kernelspec": {
   "display_name": "Python 3.9.7 64-bit ('base': conda)",
   "language": "python",
   "name": "python3"
  },
  "language_info": {
   "codemirror_mode": {
    "name": "ipython",
    "version": 3
   },
   "file_extension": ".py",
   "mimetype": "text/x-python",
   "name": "python",
   "nbconvert_exporter": "python",
   "pygments_lexer": "ipython3",
   "version": "3.10.3"
  }
 },
 "nbformat": 4,
 "nbformat_minor": 2
}

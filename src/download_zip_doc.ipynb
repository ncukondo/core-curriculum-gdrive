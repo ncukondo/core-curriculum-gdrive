{
 "cells": [
  {
   "cell_type": "code",
   "execution_count": null,
   "metadata": {},
   "outputs": [],
   "source": [
    "import os\n",
    "import tempfile\n",
    "import pandas as pd\n",
    "import csv\n",
    "import shutil\n",
    "\n",
    "from os import path\n",
    "from lib.google_drive import from_service_account\n",
    "\n",
    "from lib.utils import BASE_DIR,DOCS_DIR\n",
    "from lib.export_google_sheets import export_google_sheets\n",
    "\n",
    "\n",
    "target_zip={\n",
    "    \"documents\":'12WHiCpPGPMFXInAL92uXAZbYDuwJEnnX', \n",
    "}\n",
    "DIST_DIR=f\"{DOCS_DIR}/\"\n",
    "\n",
    "\n",
    "os.makedirs(DIST_DIR,exist_ok=True)\n",
    "drive = from_service_account()\n",
    "\n",
    "try:\n",
    "    with tempfile.TemporaryDirectory() as temp_dir:\n",
    "        for name,file_id in target_zip.items():\n",
    "            dist_path=path.join(DIST_DIR,name)\n",
    "            filename = drive.download(file_id,temp_dir)\n",
    "            if os.path.exists(dist_path):\n",
    "                shutil.rmtree(dist_path)\n",
    "            os.makedirs(path.join(DIST_DIR,name))\n",
    "            shutil.unpack_archive(filename,dist_path)\n",
    "            print(f\"unpack {filename} to {dist_path}\")\n",
    "except:            \n",
    "\n",
    "    raise\n"
   ]
  }
 ],
 "metadata": {
  "interpreter": {
   "hash": "949777d72b0d2535278d3dc13498b2535136f6dfe0678499012e853ee9abcab1"
  },
  "kernelspec": {
   "display_name": "Python 3.10.3 64-bit",
   "language": "python",
   "name": "python3"
  },
  "language_info": {
   "codemirror_mode": {
    "name": "ipython",
    "version": 3
   },
   "file_extension": ".py",
   "mimetype": "text/x-python",
   "name": "python",
   "nbconvert_exporter": "python",
   "pygments_lexer": "ipython3",
   "version": "3.10.3"
  }
 },
 "nbformat": 4,
 "nbformat_minor": 2
}

{
 "cells": [
  {
   "cell_type": "code",
   "execution_count": null,
   "metadata": {},
   "outputs": [],
   "source": [
    "import os\n",
    "from os import path \n",
    "from lib.utils import BASE_DIR,DOCS_DIR,DOCS_OUTCOMES_DIR,OUTPUT_DIR,SHEETS_GENERAL_DIR\n",
    "import shutil\n",
    "\n",
    "os.makedirs(OUTPUT_DIR,exist_ok=True)\n",
    "DOCS_SOURCE_DIR = path.join(DOCS_DIR,\"documents\")\n",
    "DOCS_OUTPUT_DIR = path.join(OUTPUT_DIR,\"documents\")\n",
    "\n",
    "shutil.copytree(DOCS_SOURCE_DIR,DOCS_OUTPUT_DIR, dirs_exist_ok=True)\n",
    "shutil.copy(path.join(DOCS_OUTPUT_DIR,\"citations.bib\"),path.join(OUTPUT_DIR,\"citations.bib\"))\n",
    "shutil.copy(path.join(SHEETS_GENERAL_DIR,\"文書一覧\",\"文書一覧.csv\"),path.join(OUTPUT_DIR,\"documents_index.csv\"))\n"
   ]
  }
 ],
 "metadata": {
  "interpreter": {
   "hash": "949777d72b0d2535278d3dc13498b2535136f6dfe0678499012e853ee9abcab1"
  },
  "kernelspec": {
   "display_name": "Python 3.10.3 64-bit",
   "language": "python",
   "name": "python3"
  },
  "language_info": {
   "codemirror_mode": {
    "name": "ipython",
    "version": 3
   },
   "file_extension": ".py",
   "mimetype": "text/x-python",
   "name": "python",
   "nbconvert_exporter": "python",
   "pygments_lexer": "ipython3",
   "version": "3.10.3"
  }
 },
 "nbformat": 4,
 "nbformat_minor": 2
}

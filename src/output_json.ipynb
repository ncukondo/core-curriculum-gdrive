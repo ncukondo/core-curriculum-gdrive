{
 "cells": [
  {
   "cell_type": "code",
   "execution_count": null,
   "metadata": {},
   "outputs": [],
   "source": [
    "import json\n",
    "import pandas as pd\n",
    "from lib.utils import BASE_DIR,SHEETS_DIR,OUTPUT_DIR\n",
    "\n",
    "from lib.dataframe_to_text import dataframe_to_text\n",
    "\n",
    "\n",
    "\n",
    "def dataframe_to_tree(data:pd.DataFrame):\n",
    "    def col_to(data:pd.DataFrame,index:int):\n",
    "        return list(data.columns.values[0:index])\n",
    "\n",
    "    def accum_col(data:pd.DataFrame):\n",
    "        col_1=data.columns.values[-1]\n",
    "        col_2=data.columns.values[-2]\n",
    "        data=data\\\n",
    "            .groupby(col_to(data,-1), as_index=False,sort=False)\\\n",
    "            .agg(lambda x:list(x))\n",
    "        data[col_2]=data.loc[:,[col_2,col_1]].apply(lambda x:{col_2:x[col_2],\"list\":x[col_1]},axis=1)\n",
    "        return data.drop(col_1,axis=1)\n",
    "\n",
    "    for _ in range(1,len(data.columns)):\n",
    "        data=accum_col(data)\n",
    "\n",
    "    return list(data.iloc[:,0])\n",
    "\n",
    "r4=pd.read_csv(f\"{OUTPUT_DIR}/outcomes.csv\")\n",
    "r4_l1=pd.read_csv(f\"{OUTPUT_DIR}/outcomes_l1.csv\")\n",
    "r4_l2=pd.read_csv(f\"{OUTPUT_DIR}/outcomes_l2.csv\")\n",
    "r4=pd.merge(r4_l2,r4,how=\"right\",on=\"第2層\")\n",
    "r4=pd.merge(r4_l1,r4,how=\"right\",on=\"第1層\")\n",
    "r4=r4.dropna(subset=[\"第1層\",\"第2層\",\"第3層\",\"第4層\"]).fillna(\"\")\n",
    "tree = dataframe_to_tree(r4.loc[:,[\"第1層\",\"第2層\",\"第3層\",\"第4層\"]])\n",
    "with open(f\"{OUTPUT_DIR}/outcomes.json\",\"w\") as f:\n",
    "    json.dump(tree,f,ensure_ascii=False)\n"
   ]
  }
 ],
 "metadata": {
  "interpreter": {
   "hash": "949777d72b0d2535278d3dc13498b2535136f6dfe0678499012e853ee9abcab1"
  },
  "kernelspec": {
   "display_name": "Python 3.10.3 64-bit",
   "language": "python",
   "name": "python3"
  },
  "language_info": {
   "codemirror_mode": {
    "name": "ipython",
    "version": 3
   },
   "file_extension": ".py",
   "mimetype": "text/x-python",
   "name": "python",
   "nbconvert_exporter": "python",
   "pygments_lexer": "ipython3",
   "version": "3.10.3"
  }
 },
 "nbformat": 4,
 "nbformat_minor": 2
}

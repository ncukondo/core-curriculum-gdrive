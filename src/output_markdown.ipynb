{
 "cells": [
  {
   "cell_type": "code",
   "execution_count": null,
   "metadata": {},
   "outputs": [],
   "source": [
    "import pandas as pd\n",
    "from lib.utils import BASE_DIR,SHEETS_DIR,OUTPUT_DIR\n",
    "\n",
    "from lib.dataframe_to_text import dataframe_to_text\n",
    "\n",
    "\n",
    "r4_l1=pd.read_csv(f\"{OUTPUT_DIR}/outcomes_l1.csv\")\n",
    "r4_l2=pd.read_csv(f\"{OUTPUT_DIR}/outcomes_l2.csv\")\n",
    "r4_l3=pd.read_csv(f\"{OUTPUT_DIR}/outcomes_l3.csv\")\n",
    "r4_l4=pd.read_csv(f\"{OUTPUT_DIR}/outcomes_l4.csv\")\n",
    "r4_l12 = pd.merge(r4_l1,r4_l2,on=\"l1_id\")\n",
    "r4_l123 = pd.merge(r4_l12,r4_l3,on=\"l2_id\")\n",
    "r4 = pd.merge(r4_l123,r4_l4,on=\"l3_id\")\n",
    "r4=r4.dropna(subset=[\"l1\",\"l2\",\"l3\",\"l4\"]).fillna(\"\")\n",
    "\n",
    "r4_to_md=pd.DataFrame(data=[],columns=[\"l1\",\"l2\",\"l3\",\"l4\"])\n",
    "r4_to_md[\"l1\"]=\"\\n\"+\"## \"+r4[\"l1_id\"]+\": \"+r4[\"l1\"]+\"\\n\\n\"+r4[\"l1_desc\"]+\"\\n\"\n",
    "r4_to_md[\"l2\"]=\"\\n\"+\"### \"+r4[\"l2_id\"]+\": \"+r4[\"l2\"]+\"\\n\\n\"+r4[\"l2_desc\"]+\"\\n\"\n",
    "r4_to_md[\"l3\"]=\"\\n\"+\"#### \"+r4[\"l3_id\"]+\": \"+r4[\"l3\"]+\"\\n\"\n",
    "r4_to_md[\"l4\"]=\"- \"+r4[\"l4_id\"]+\" \"+r4[\"l4\"]\n",
    "r4_to_md=r4_to_md.dropna(subset=[\"l1\",\"l2\",\"l3\",\"l4\"])\n",
    "\n",
    "r4_md = dataframe_to_text(r4_to_md)\n",
    "\n",
    "with open(f\"{OUTPUT_DIR}/outcomes.md\",\"w\") as f:\n",
    "    f.write(r4_md)\n",
    "print(f\"output... {OUTPUT_DIR}/outcomes.md\")\n"
   ]
  },
  {
   "cell_type": "code",
   "execution_count": null,
   "metadata": {},
   "outputs": [],
   "source": [
    "r4_to_md_l1=pd.DataFrame(data=[],columns=[\"l1\"])\n",
    "r4_to_md_l1[\"l1\"]=\"\\n\"+\"## \"+r4[\"l1_id\"]+\": \"+r4[\"l1\"]+\" (\"+r4[\"l1_spell\"]+\")\\n\\n\"+r4[\"l1_desc\"]+\"\\n\"\n",
    "r4_to_md_l1=r4_to_md_l1.dropna(subset=[\"l1\"]).drop_duplicates()\n",
    "\n",
    "r4_md_l1 = dataframe_to_text(r4_to_md_l1)\n",
    "\n",
    "with open(f\"{OUTPUT_DIR}/outcomes_l1.md\",\"w\") as f:\n",
    "    f.write(r4_md_l1)\n",
    "print(\"output... ./dist/outcomes_l1.md\")\n"
   ]
  }
 ],
 "metadata": {
  "interpreter": {
   "hash": "d4d1e4263499bec80672ea0156c357c1ee493ec2b1c70f0acce89fc37c4a6abe"
  },
  "kernelspec": {
   "display_name": "Python 3.9.7 ('base')",
   "language": "python",
   "name": "python3"
  },
  "language_info": {
   "codemirror_mode": {
    "name": "ipython",
    "version": 3
   },
   "file_extension": ".py",
   "mimetype": "text/x-python",
   "name": "python",
   "nbconvert_exporter": "python",
   "pygments_lexer": "ipython3",
   "version": "3.10.3"
  }
 },
 "nbformat": 4,
 "nbformat_minor": 2
}

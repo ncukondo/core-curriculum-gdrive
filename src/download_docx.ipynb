{
 "cells": [
  {
   "cell_type": "code",
   "execution_count": null,
   "metadata": {},
   "outputs": [],
   "source": [
    "import os\n",
    "import tempfile\n",
    "import pandas as pd\n",
    "import csv\n",
    "import shutil\n",
    "\n",
    "from lib.utils import BASE_DIR,DOCS_DIR\n",
    "from lib.export_google_docs import export_google_docs\n",
    "\n",
    "from docx import Document\n",
    "\n",
    "folder_dict={\n",
    "    \"outcomes\": '1FlCwwi71s1BI4uhOf2CefX85byj1Alo_', #資質・能力\n",
    "}\n",
    "DIST_DIR=DOCS_DIR\n",
    "\n",
    "if os.path.exists(DIST_DIR):\n",
    "    shutil.rmtree(DIST_DIR)\n",
    "\n",
    "os.makedirs(DIST_DIR,exist_ok=True)\n",
    "\n",
    "try:\n",
    "    with tempfile.TemporaryDirectory() as temp_dir:\n",
    "        file_list=export_google_docs(folder_dict,\"sheets\")\n",
    "        for file in file_list:\n",
    "            doc_file = Document(file[\"export_path\"])\n",
    "            paras = []\n",
    "            for para in doc_file.paragraphs: \n",
    "                paras.append(para.text)\n",
    "            \n",
    "            name = file['name']\n",
    "            dir_name = os.path.join(DIST_DIR,os.path.basename(os.path.dirname(file[\"export_path\"])))\n",
    "            os.makedirs(dir_name,exist_ok=True)\n",
    "            with open(os.path.join(dir_name,f\"{name}.txt\"),\"w\") as f:\n",
    "                f.write(\"\\n\".join(paras))\n",
    "except:\n",
    "    raise\n"
   ]
  }
 ],
 "metadata": {
  "interpreter": {
   "hash": "949777d72b0d2535278d3dc13498b2535136f6dfe0678499012e853ee9abcab1"
  },
  "kernelspec": {
   "display_name": "Python 3.10.3 64-bit",
   "language": "python",
   "name": "python3"
  },
  "language_info": {
   "codemirror_mode": {
    "name": "ipython",
    "version": 3
   },
   "file_extension": ".py",
   "mimetype": "text/x-python",
   "name": "python",
   "nbconvert_exporter": "python",
   "pygments_lexer": "ipython3",
   "version": "3.10.3"
  }
 },
 "nbformat": 4,
 "nbformat_minor": 2
}

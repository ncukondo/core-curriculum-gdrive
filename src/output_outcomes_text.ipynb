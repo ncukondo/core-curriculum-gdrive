{
 "cells": [
  {
   "cell_type": "code",
   "execution_count": null,
   "metadata": {},
   "outputs": [],
   "source": [
    "from os import path \n",
    "from lib.utils import BASE_DIR,DOCS_DIR,DOCS_OUTCOMES_DIR,OUTPUT_DIR\n",
    "\n",
    "with open(path.join(DOCS_OUTCOMES_DIR,\"前文.txt\"),\"r\") as f:\n",
    "    preamble = f.read()\n",
    "\n",
    "with open(path.join(OUTPUT_DIR,\"outcomes_preamble.md\"),\"w\") as f:\n",
    "    f.write(preamble)\n",
    "\n",
    "print(f\"output... ./output/outcomes_preamble.md\")\n",
    "\n",
    "preamble"
   ]
  }
 ],
 "metadata": {
  "interpreter": {
   "hash": "949777d72b0d2535278d3dc13498b2535136f6dfe0678499012e853ee9abcab1"
  },
  "kernelspec": {
   "display_name": "Python 3.10.3 64-bit",
   "language": "python",
   "name": "python3"
  },
  "language_info": {
   "codemirror_mode": {
    "name": "ipython",
    "version": 3
   },
   "file_extension": ".py",
   "mimetype": "text/x-python",
   "name": "python",
   "nbconvert_exporter": "python",
   "pygments_lexer": "ipython3",
   "version": "3.10.3"
  }
 },
 "nbformat": 4,
 "nbformat_minor": 2
}

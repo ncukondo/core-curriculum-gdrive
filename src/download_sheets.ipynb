{
 "cells": [
  {
   "cell_type": "code",
   "execution_count": 1,
   "metadata": {},
   "outputs": [
    {
     "name": "stdout",
     "output_type": "stream",
     "text": [
      "コミュ編集用 in 2022-04-12T06:40:50.744Z\n",
      "略語集 in 2022-04-12T06:38:41.354Z\n",
      "連携編集用 in 2022-04-12T06:35:51.667Z\n",
      "生涯編集用 in 2022-04-12T06:35:35.832Z\n",
      "総合編集用 in 2022-04-12T06:29:09.862Z\n",
      "技能編集用 in 2022-04-12T06:22:32.715Z\n",
      "科学編集用 in 2022-04-12T06:17:40.970Z\n",
      "社会編集用 in 2022-04-12T06:15:47.625Z\n",
      "情報編集用 in 2022-04-12T06:15:40.903Z\n",
      "プロ編集用 in 2022-04-12T06:15:27.774Z\n",
      "知識編集用 in 2022-04-12T04:49:15.732Z\n",
      "別表一覧 in 2022-04-11T08:32:50.280Z\n",
      "H28 in 2022-03-15T07:36:05.798Z\n",
      "第1層 in 2022-03-12T00:00:48.490Z\n"
     ]
    }
   ],
   "source": [
    "import os\n",
    "import tempfile\n",
    "import pandas as pd\n",
    "import csv\n",
    "import shutil\n",
    "\n",
    "from lib.utils import BASE_DIR\n",
    "from lib.export_google_sheets import export_google_sheets\n",
    "\n",
    "\n",
    "folder_ids=[\n",
    "        '1IDl3cSc8u5y4Gf13_PBCEZdFFnDv6Ilz', #入力\n",
    "        '1FlCwwi71s1BI4uhOf2CefX85byj1Alo_', #各チーム編集用シート\n",
    "]\n",
    "DIST_DIR=f\"{BASE_DIR}/sheets/\"\n",
    "\n",
    "if os.path.exists(DIST_DIR):\n",
    "    shutil.rmtree(DIST_DIR)\n",
    "\n",
    "os.makedirs(DIST_DIR,exist_ok=True)\n",
    "\n",
    "try:\n",
    "    with tempfile.TemporaryDirectory() as temp_dir:\n",
    "        file_list=export_google_sheets(folder_ids,temp_dir,info_store_file=\"\")\n",
    "        for file in file_list:\n",
    "            book = pd.ExcelFile(file[\"export_path\"])\n",
    "            dir_name = os.path.join(DIST_DIR,file['name'])\n",
    "            os.makedirs(dir_name,exist_ok=True)\n",
    "            for name in book.sheet_names:\n",
    "                sheet:pd.DataFrame = book.parse(name)\n",
    "                sheet.to_csv(os.path.join(dir_name,f\"{name}.csv\"),quoting=csv.QUOTE_NONNUMERIC,encoding=\"utf_8_sig\",index=False,)\n",
    "except:\n",
    "    raise\n"
   ]
  }
 ],
 "metadata": {
  "interpreter": {
   "hash": "d4d1e4263499bec80672ea0156c357c1ee493ec2b1c70f0acce89fc37c4a6abe"
  },
  "kernelspec": {
   "display_name": "Python 3.9.7 64-bit ('base': conda)",
   "language": "python",
   "name": "python3"
  },
  "language_info": {
   "codemirror_mode": {
    "name": "ipython",
    "version": 3
   },
   "file_extension": ".py",
   "mimetype": "text/x-python",
   "name": "python",
   "nbconvert_exporter": "python",
   "pygments_lexer": "ipython3",
   "version": "3.10.3"
  }
 },
 "nbformat": 4,
 "nbformat_minor": 2
}
